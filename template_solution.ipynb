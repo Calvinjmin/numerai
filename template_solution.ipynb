{
 "cells": [
  {
   "cell_type": "markdown",
   "metadata": {},
   "source": [
    "# Template Solution for Numerai\n",
    "\n",
    "Solution is based on the `hello_numerai` project provided by numerai.\n",
    "\n",
    "Author: Calvin Min (202)"
   ]
  },
  {
   "cell_type": "code",
   "execution_count": 1,
   "metadata": {},
   "outputs": [
    {
     "name": "stdout",
     "output_type": "stream",
     "text": [
      "zsh:1: command not found: python\n",
      "\u001b[33mWARNING: Skipping /opt/homebrew/lib/python3.11/site-packages/certifi-2024.8.30.dist-info due to invalid metadata entry 'name'\u001b[0m\u001b[33m\n",
      "\u001b[0m\u001b[33mWARNING: Skipping /opt/homebrew/lib/python3.11/site-packages/certifi-2024.8.30.dist-info due to invalid metadata entry 'name'\u001b[0m\u001b[33m\n",
      "\u001b[0m\u001b[33mWARNING: Skipping /opt/homebrew/lib/python3.11/site-packages/certifi-2024.8.30.dist-info due to invalid metadata entry 'name'\u001b[0m\u001b[33m\n",
      "\u001b[0m\u001b[33mWARNING: Skipping /opt/homebrew/lib/python3.11/site-packages/certifi-2024.8.30.dist-info due to invalid metadata entry 'name'\u001b[0m\u001b[33m\n",
      "\u001b[0m\u001b[33mWARNING: Skipping /opt/homebrew/lib/python3.11/site-packages/certifi-2024.8.30.dist-info due to invalid metadata entry 'name'\u001b[0m\u001b[33m\n",
      "\u001b[0m\u001b[33mWARNING: Skipping /opt/homebrew/lib/python3.11/site-packages/certifi-2024.8.30.dist-info due to invalid metadata entry 'name'\u001b[0m\u001b[33m\n",
      "\u001b[0m\u001b[33mWARNING: Skipping /opt/homebrew/lib/python3.11/site-packages/certifi-2024.8.30.dist-info due to invalid metadata entry 'name'\u001b[0m\u001b[33m\n",
      "\u001b[0m\u001b[33mWARNING: Skipping /opt/homebrew/lib/python3.11/site-packages/certifi-2024.8.30.dist-info due to invalid metadata entry 'name'\u001b[0m\u001b[33m\n",
      "\u001b[0m\u001b[33mWARNING: Skipping /opt/homebrew/lib/python3.11/site-packages/certifi-2024.8.30.dist-info due to invalid metadata entry 'name'\u001b[0m\u001b[33m\n",
      "\u001b[0m\u001b[33mWARNING: Skipping /opt/homebrew/lib/python3.11/site-packages/certifi-2024.8.30.dist-info due to invalid metadata entry 'name'\u001b[0m\u001b[33m\n",
      "\u001b[0m\u001b[33mWARNING: Skipping /opt/homebrew/lib/python3.11/site-packages/certifi-2024.8.30.dist-info due to invalid metadata entry 'name'\u001b[0m\u001b[33m\n",
      "\u001b[0m\n",
      "\u001b[1m[\u001b[0m\u001b[34;49mnotice\u001b[0m\u001b[1;39;49m]\u001b[0m\u001b[39;49m A new release of pip is available: \u001b[0m\u001b[31;49m24.1.2\u001b[0m\u001b[39;49m -> \u001b[0m\u001b[32;49m24.2\u001b[0m\n",
      "\u001b[1m[\u001b[0m\u001b[34;49mnotice\u001b[0m\u001b[1;39;49m]\u001b[0m\u001b[39;49m To update, run: \u001b[0m\u001b[32;49m/opt/homebrew/opt/python@3.11/bin/python3.11 -m pip install --upgrade pip\u001b[0m\n"
     ]
    }
   ],
   "source": [
    "!python --version\n",
    "!pip install -q numerapi pandas pyarrow matplotlib lightgbm scikit-learn cloudpickle python-dotenv scipy==1.10.1"
   ]
  },
  {
   "cell_type": "code",
   "execution_count": 1,
   "metadata": {},
   "outputs": [
    {
     "name": "stderr",
     "output_type": "stream",
     "text": [
      "2024-09-10 15:31:20,207 INFO numerapi.utils: target file already exists\n",
      "2024-09-10 15:31:20,208 INFO numerapi.utils: download complete\n",
      "2024-09-10 15:31:20,748 INFO numerapi.utils: target file already exists\n",
      "2024-09-10 15:31:20,749 INFO numerapi.utils: download complete\n",
      "2024-09-10 15:31:21,229 INFO numerapi.utils: target file already exists\n",
      "2024-09-10 15:31:21,230 INFO numerapi.utils: download complete\n"
     ]
    },
    {
     "name": "stdout",
     "output_type": "stream",
     "text": [
      "-----BEGIN TO TRAIN MODEL-----\n",
      "[LightGBM] [Info] Auto-choosing row-wise multi-threading, the overhead of testing was 0.083343 seconds.\n",
      "You can set `force_row_wise=true` to remove the overhead.\n",
      "And if memory is not enough, you can set `force_col_wise=true`.\n",
      "[LightGBM] [Info] Total Bins 3525\n",
      "[LightGBM] [Info] Number of data points in the train set: 5254695, number of used features: 705\n",
      "[LightGBM] [Info] Start training from score 0.497215\n",
      "-----FINISHED TRAINING-----\n"
     ]
    }
   ],
   "source": [
    "from numerapi import NumerAPI\n",
    "import pandas as pd\n",
    "import json\n",
    "import lightgbm as lgb\n",
    "from dotenv import load_dotenv\n",
    "import os\n",
    "\n",
    "# Load environment variables from .env file\n",
    "load_dotenv()\n",
    "\n",
    "# Retrieve API keys from environment variables\n",
    "PUBLIC_ID = os.getenv('PUBLIC_ID')\n",
    "API_SECRET = os.getenv('SECRET')\n",
    "\n",
    "# Initialize NumerAPI\n",
    "napi = NumerAPI(PUBLIC_ID, API_SECRET)\n",
    "\n",
    "# Use one of the latest data versions\n",
    "DATA_VERSION = \"v4.3\"\n",
    "\n",
    "# Download data\n",
    "napi.download_dataset(f\"{DATA_VERSION}/train_int8.parquet\")\n",
    "napi.download_dataset(f\"{DATA_VERSION}/features.json\")\n",
    "napi.download_dataset(f\"{DATA_VERSION}/validation_int8.parquet\")\n",
    "\n",
    "# Load data - Train and Validation\n",
    "feature_metadata = json.load(open(f\"{DATA_VERSION}/features.json\"))\n",
    "features = feature_metadata[\"feature_sets\"][\"medium\"]\n",
    "train = pd.read_parquet(f\"{DATA_VERSION}/train_int8.parquet\", columns=[\"era\"]+features+[\"target\"])\n",
    "validation = pd.read_parquet(f\"{DATA_VERSION}/validation_int8.parquet\", columns=[\"era\"]+features+[\"target\"])\n",
    "train = pd.concat([train, validation])\n",
    "\n",
    "# Train model\n",
    "model = lgb.LGBMRegressor(\n",
    "    n_estimators=2000,\n",
    "    learning_rate=0.01,\n",
    "    max_depth=5,\n",
    "    num_leaves=2**5-1,\n",
    "    colsample_bytree=0.1\n",
    ")\n",
    "\n",
    "print(\"-----BEGIN TO TRAIN MODEL-----\")\n",
    "model.fit(\n",
    "    train[features],\n",
    "    train[\"target\"]\n",
    ")\n",
    "print(\"-----FINISHED TRAINING-----\")\n"
   ]
  },
  {
   "cell_type": "code",
   "execution_count": 2,
   "metadata": {},
   "outputs": [
    {
     "name": "stderr",
     "output_type": "stream",
     "text": [
      "2024-09-10 15:40:10,154 INFO numerapi.utils: target file already exists\n",
      "2024-09-10 15:40:10,156 INFO numerapi.utils: download complete\n"
     ]
    }
   ],
   "source": [
    "## -- Download Latest Dataset from Numerai --\n",
    "napi.download_dataset(f\"{DATA_VERSION}/live_int8.parquet\")\n",
    "live_data = pd.read_parquet(f\"{DATA_VERSION}/live_int8.parquet\")\n",
    "\n",
    "# Extract Live Features\n",
    "live_features = live_data[features]"
   ]
  },
  {
   "cell_type": "code",
   "execution_count": 9,
   "metadata": {},
   "outputs": [
    {
     "name": "stderr",
     "output_type": "stream",
     "text": [
      "2024-09-10 15:46:32,827 INFO numerapi.base_api: uploading predictions...\n"
     ]
    },
    {
     "data": {
      "text/plain": [
       "'a6533f7d-87f3-42b4-88da-6d7ba08e0f05'"
      ]
     },
     "execution_count": 9,
     "metadata": {},
     "output_type": "execute_result"
    }
   ],
   "source": [
    "### --- USING API to Submit --- ###\n",
    "\n",
    "# Prediction function using trained model above\n",
    "def predict(live_features: pd.DataFrame) -> pd.DataFrame:\n",
    "    live_predictions = model.predict(live_features[features])\n",
    "    submission = pd.Series(live_predictions, index=live_features.index)\n",
    "    submission.to_frame(\"prediction\").to_csv(f\"./submission.csv\")\n",
    "\n",
    "# Format and save submission\n",
    "predict(live_features)\n",
    "\n",
    "# Upload submission\n",
    "napi.upload_predictions(\"./submission.csv\")"
   ]
  },
  {
   "cell_type": "code",
   "execution_count": 5,
   "metadata": {},
   "outputs": [
    {
     "name": "stdout",
     "output_type": "stream",
     "text": [
      "Function pickled to predict_20240910_154309.pkl\n"
     ]
    }
   ],
   "source": [
    "### --- Pickle Submission --- ### \n",
    "from datetime import datetime\n",
    "import cloudpickle\n",
    "\n",
    "# Get the current date and time for the filename\n",
    "timestamp = datetime.now().strftime(\"%Y%m%d_%H%M%S\")\n",
    "\n",
    "# Create the filename with the timestamp\n",
    "filename = f\"predict_{timestamp}.pkl\"\n",
    "\n",
    "# Pickle the predict function\n",
    "with open(filename, \"wb\") as f:\n",
    "    cloudpickle.dump(predict, f)\n",
    "\n",
    "print(f\"Function pickled to {filename}\")"
   ]
  }
 ],
 "metadata": {
  "kernelspec": {
   "display_name": "Python 3",
   "language": "python",
   "name": "python3"
  },
  "language_info": {
   "codemirror_mode": {
    "name": "ipython",
    "version": 3
   },
   "file_extension": ".py",
   "mimetype": "text/x-python",
   "name": "python",
   "nbconvert_exporter": "python",
   "pygments_lexer": "ipython3",
   "version": "3.11.4"
  }
 },
 "nbformat": 4,
 "nbformat_minor": 2
}
